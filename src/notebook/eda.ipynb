{
 "cells": [
  {
   "cell_type": "code",
   "execution_count": 9,
   "metadata": {},
   "outputs": [],
   "source": [
    "import numpy as np\n",
    "import pandas as pd\n",
    "import seaborn as sns\n",
    "import matplotlib.pyplot as plt\n",
    "import warnings\n",
    "warnings.filterwarnings('ignore')"
   ]
  },
  {
   "cell_type": "code",
   "execution_count": 10,
   "metadata": {},
   "outputs": [],
   "source": [
    "data = pd.read_csv(r\"C:\\API\\automation\\src\\notebook\\final_data.csv\")"
   ]
  },
  {
   "cell_type": "code",
   "execution_count": 11,
   "metadata": {},
   "outputs": [
    {
     "data": {
      "text/html": [
       "<div>\n",
       "<style scoped>\n",
       "    .dataframe tbody tr th:only-of-type {\n",
       "        vertical-align: middle;\n",
       "    }\n",
       "\n",
       "    .dataframe tbody tr th {\n",
       "        vertical-align: top;\n",
       "    }\n",
       "\n",
       "    .dataframe thead th {\n",
       "        text-align: right;\n",
       "    }\n",
       "</style>\n",
       "<table border=\"1\" class=\"dataframe\">\n",
       "  <thead>\n",
       "    <tr style=\"text-align: right;\">\n",
       "      <th></th>\n",
       "      <th>origin_city</th>\n",
       "      <th>origin_State</th>\n",
       "      <th>origin_latitude</th>\n",
       "      <th>origin_longitude</th>\n",
       "      <th>destination_city</th>\n",
       "      <th>Destination State</th>\n",
       "      <th>dest_latitude</th>\n",
       "      <th>dest_longitude</th>\n",
       "      <th>equipment_type</th>\n",
       "      <th>rate_search_type</th>\n",
       "      <th>fuel_charges</th>\n",
       "      <th>avg_rate_rpm</th>\n",
       "      <th>date_year</th>\n",
       "      <th>date_month</th>\n",
       "      <th>data_date</th>\n",
       "    </tr>\n",
       "  </thead>\n",
       "  <tbody>\n",
       "    <tr>\n",
       "      <th>0</th>\n",
       "      <td>ALABASTER</td>\n",
       "      <td>AL</td>\n",
       "      <td>33.218709</td>\n",
       "      <td>-86.783546</td>\n",
       "      <td>FRANKLINVILLE</td>\n",
       "      <td>NY</td>\n",
       "      <td>42.335942</td>\n",
       "      <td>-78.431447</td>\n",
       "      <td>Flat Bed</td>\n",
       "      <td>shipper</td>\n",
       "      <td>4.4</td>\n",
       "      <td>9.05</td>\n",
       "      <td>2024</td>\n",
       "      <td>6</td>\n",
       "      <td>22</td>\n",
       "    </tr>\n",
       "    <tr>\n",
       "      <th>1</th>\n",
       "      <td>ALABASTER</td>\n",
       "      <td>AL</td>\n",
       "      <td>33.226802</td>\n",
       "      <td>-86.905589</td>\n",
       "      <td>CHEMUNG</td>\n",
       "      <td>NY</td>\n",
       "      <td>42.058959</td>\n",
       "      <td>-76.613664</td>\n",
       "      <td>Van</td>\n",
       "      <td>carrier</td>\n",
       "      <td>3.6</td>\n",
       "      <td>13.15</td>\n",
       "      <td>2022</td>\n",
       "      <td>2</td>\n",
       "      <td>19</td>\n",
       "    </tr>\n",
       "    <tr>\n",
       "      <th>2</th>\n",
       "      <td>ALACHUA</td>\n",
       "      <td>FL</td>\n",
       "      <td>29.821385</td>\n",
       "      <td>-82.490936</td>\n",
       "      <td>ALBANY</td>\n",
       "      <td>NY</td>\n",
       "      <td>42.652500</td>\n",
       "      <td>-73.756700</td>\n",
       "      <td>Reefer</td>\n",
       "      <td>shipper</td>\n",
       "      <td>3.3</td>\n",
       "      <td>10.78</td>\n",
       "      <td>2023</td>\n",
       "      <td>7</td>\n",
       "      <td>3</td>\n",
       "    </tr>\n",
       "    <tr>\n",
       "      <th>3</th>\n",
       "      <td>ALACHUA</td>\n",
       "      <td>FL</td>\n",
       "      <td>29.787679</td>\n",
       "      <td>-82.494362</td>\n",
       "      <td>SCHENECTADY</td>\n",
       "      <td>NY</td>\n",
       "      <td>42.814800</td>\n",
       "      <td>-73.939300</td>\n",
       "      <td>Reefer</td>\n",
       "      <td>carrier</td>\n",
       "      <td>4.3</td>\n",
       "      <td>13.79</td>\n",
       "      <td>2020</td>\n",
       "      <td>1</td>\n",
       "      <td>12</td>\n",
       "    </tr>\n",
       "    <tr>\n",
       "      <th>4</th>\n",
       "      <td>ALAMANCE</td>\n",
       "      <td>NC</td>\n",
       "      <td>36.035100</td>\n",
       "      <td>-79.486300</td>\n",
       "      <td>PONCE</td>\n",
       "      <td>PR</td>\n",
       "      <td>18.000417</td>\n",
       "      <td>-66.614669</td>\n",
       "      <td>Flat Bed</td>\n",
       "      <td>shipper</td>\n",
       "      <td>4.9</td>\n",
       "      <td>9.36</td>\n",
       "      <td>2024</td>\n",
       "      <td>6</td>\n",
       "      <td>11</td>\n",
       "    </tr>\n",
       "  </tbody>\n",
       "</table>\n",
       "</div>"
      ],
      "text/plain": [
       "  origin_city origin_State  origin_latitude  origin_longitude  \\\n",
       "0   ALABASTER           AL        33.218709        -86.783546   \n",
       "1   ALABASTER           AL        33.226802        -86.905589   \n",
       "2     ALACHUA           FL        29.821385        -82.490936   \n",
       "3     ALACHUA           FL        29.787679        -82.494362   \n",
       "4    ALAMANCE           NC        36.035100        -79.486300   \n",
       "\n",
       "  destination_city Destination State  dest_latitude  dest_longitude  \\\n",
       "0    FRANKLINVILLE                NY      42.335942      -78.431447   \n",
       "1          CHEMUNG                NY      42.058959      -76.613664   \n",
       "2           ALBANY                NY      42.652500      -73.756700   \n",
       "3      SCHENECTADY                NY      42.814800      -73.939300   \n",
       "4            PONCE                PR      18.000417      -66.614669   \n",
       "\n",
       "  equipment_type rate_search_type  fuel_charges  avg_rate_rpm  date_year  \\\n",
       "0       Flat Bed          shipper           4.4          9.05       2024   \n",
       "1            Van          carrier           3.6         13.15       2022   \n",
       "2         Reefer          shipper           3.3         10.78       2023   \n",
       "3         Reefer          carrier           4.3         13.79       2020   \n",
       "4       Flat Bed          shipper           4.9          9.36       2024   \n",
       "\n",
       "   date_month  data_date  \n",
       "0           6         22  \n",
       "1           2         19  \n",
       "2           7          3  \n",
       "3           1         12  \n",
       "4           6         11  "
      ]
     },
     "execution_count": 11,
     "metadata": {},
     "output_type": "execute_result"
    }
   ],
   "source": [
    "data.head()"
   ]
  },
  {
   "cell_type": "code",
   "execution_count": 12,
   "metadata": {},
   "outputs": [
    {
     "data": {
      "text/plain": [
       "origin_city           object\n",
       "origin_State          object\n",
       "origin_latitude      float64\n",
       "origin_longitude     float64\n",
       "destination_city      object\n",
       "Destination State     object\n",
       "dest_latitude        float64\n",
       "dest_longitude       float64\n",
       "equipment_type        object\n",
       "rate_search_type      object\n",
       "fuel_charges         float64\n",
       "avg_rate_rpm         float64\n",
       "date_year              int64\n",
       "date_month             int64\n",
       "data_date              int64\n",
       "dtype: object"
      ]
     },
     "execution_count": 12,
     "metadata": {},
     "output_type": "execute_result"
    }
   ],
   "source": [
    "data.dtypes"
   ]
  },
  {
   "cell_type": "code",
   "execution_count": null,
   "metadata": {},
   "outputs": [],
   "source": []
  },
  {
   "cell_type": "code",
   "execution_count": null,
   "metadata": {},
   "outputs": [],
   "source": []
  },
  {
   "cell_type": "code",
   "execution_count": null,
   "metadata": {},
   "outputs": [],
   "source": []
  },
  {
   "cell_type": "code",
   "execution_count": null,
   "metadata": {},
   "outputs": [],
   "source": []
  },
  {
   "cell_type": "code",
   "execution_count": null,
   "metadata": {},
   "outputs": [],
   "source": []
  },
  {
   "cell_type": "code",
   "execution_count": null,
   "metadata": {},
   "outputs": [],
   "source": []
  },
  {
   "cell_type": "code",
   "execution_count": null,
   "metadata": {},
   "outputs": [],
   "source": []
  },
  {
   "cell_type": "code",
   "execution_count": null,
   "metadata": {},
   "outputs": [],
   "source": []
  },
  {
   "cell_type": "code",
   "execution_count": null,
   "metadata": {},
   "outputs": [],
   "source": []
  },
  {
   "cell_type": "code",
   "execution_count": null,
   "metadata": {},
   "outputs": [],
   "source": []
  },
  {
   "cell_type": "code",
   "execution_count": null,
   "metadata": {},
   "outputs": [],
   "source": []
  },
  {
   "cell_type": "code",
   "execution_count": null,
   "metadata": {},
   "outputs": [],
   "source": []
  },
  {
   "cell_type": "code",
   "execution_count": null,
   "metadata": {},
   "outputs": [],
   "source": []
  },
  {
   "cell_type": "code",
   "execution_count": null,
   "metadata": {},
   "outputs": [],
   "source": []
  },
  {
   "cell_type": "code",
   "execution_count": null,
   "metadata": {},
   "outputs": [],
   "source": []
  },
  {
   "cell_type": "code",
   "execution_count": null,
   "metadata": {},
   "outputs": [],
   "source": []
  },
  {
   "cell_type": "code",
   "execution_count": null,
   "metadata": {},
   "outputs": [],
   "source": []
  },
  {
   "cell_type": "code",
   "execution_count": null,
   "metadata": {},
   "outputs": [],
   "source": []
  }
 ],
 "metadata": {
  "kernelspec": {
   "display_name": "Python 3",
   "language": "python",
   "name": "python3"
  },
  "language_info": {
   "codemirror_mode": {
    "name": "ipython",
    "version": 3
   },
   "file_extension": ".py",
   "mimetype": "text/x-python",
   "name": "python",
   "nbconvert_exporter": "python",
   "pygments_lexer": "ipython3",
   "version": "3.9.12"
  }
 },
 "nbformat": 4,
 "nbformat_minor": 2
}
